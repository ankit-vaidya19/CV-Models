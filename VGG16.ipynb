{
  "nbformat": 4,
  "nbformat_minor": 0,
  "metadata": {
    "colab": {
      "provenance": []
    },
    "kernelspec": {
      "name": "python3",
      "display_name": "Python 3"
    },
    "language_info": {
      "name": "python"
    },
    "accelerator": "GPU",
    "gpuClass": "standard"
  },
  "cells": [
    {
      "cell_type": "code",
      "source": [
        "import tensorflow as tf\n",
        "from tensorflow import keras\n",
        "from tensorflow.keras import layers\n",
        "from tensorflow.keras.datasets import cifar10\n",
        "import matplotlib.pyplot as plt"
      ],
      "metadata": {
        "id": "f4zUq8SjiQtz"
      },
      "execution_count": 1,
      "outputs": []
    },
    {
      "cell_type": "code",
      "source": [
        "(x_train,y_train),(x_test,y_test) = cifar10.load_data()"
      ],
      "metadata": {
        "id": "MuDoUz_Aj8jU"
      },
      "execution_count": 2,
      "outputs": []
    },
    {
      "cell_type": "code",
      "source": [
        "split = int(0.8*len(x_train))\n",
        "x_train = x_train.astype('float32')/255.0\n",
        "x_test = x_test.astype('float32')/255.0\n",
        "y_train = keras.utils.to_categorical(y_train)\n",
        "y_test = keras.utils.to_categorical(y_test)"
      ],
      "metadata": {
        "id": "6zFEBGlqjh6l"
      },
      "execution_count": 3,
      "outputs": []
    },
    {
      "cell_type": "code",
      "source": [
        "x_train1 = x_train[:split]\n",
        "y_train1 = y_train[:split]\n",
        "x_val = x_train[split:]\n",
        "y_val = y_train[split:]"
      ],
      "metadata": {
        "id": "_cPX3F0RjjAN"
      },
      "execution_count": 4,
      "outputs": []
    },
    {
      "cell_type": "code",
      "source": [
        "print(x_train1.shape)\n",
        "print(y_train1.shape)\n",
        "print(x_val.shape)\n",
        "print(y_val.shape)\n",
        "print(x_test.shape)\n",
        "print(y_test.shape)"
      ],
      "metadata": {
        "colab": {
          "base_uri": "https://localhost:8080/"
        },
        "id": "KPoSB0zKjlEB",
        "outputId": "d9ef9cd4-773e-4c95-ecb3-3f33595fed31"
      },
      "execution_count": 5,
      "outputs": [
        {
          "output_type": "stream",
          "name": "stdout",
          "text": [
            "(40000, 32, 32, 3)\n",
            "(40000, 10)\n",
            "(10000, 32, 32, 3)\n",
            "(10000, 10)\n",
            "(10000, 32, 32, 3)\n",
            "(10000, 10)\n"
          ]
        }
      ]
    },
    {
      "cell_type": "code",
      "source": [
        "model = keras.Sequential([\n",
        "    layers.Input(shape=(32,32,3)),\n",
        "    \n",
        "    layers.Conv2D(64,kernel_size = (3,3),padding = 'same',activation = 'relu'),\n",
        "    layers.Conv2D(64,kernel_size = (3,3),padding = 'same',activation = 'relu'),\n",
        "    layers.MaxPooling2D((2,2),strides = (2,2)),\n",
        "    \n",
        "    layers.Conv2D(128,kernel_size = (3,3),padding = 'same',activation = 'relu'),\n",
        "    layers.Conv2D(128,kernel_size = (3,3),padding = 'same',activation = 'relu'),\n",
        "    layers.MaxPooling2D((2,2),strides = (2,2)),\n",
        "\n",
        "    layers.Conv2D(256,kernel_size = (3,3),padding = 'same',activation = 'relu'),\n",
        "    layers.Conv2D(256,kernel_size = (3,3),padding = 'same',activation = 'relu'),\n",
        "    layers.Conv2D(256,kernel_size = (3,3),padding = 'same',activation = 'relu'),\n",
        "    layers.MaxPooling2D((2,2),strides = (2,2)),\n",
        "\n",
        "    layers.Conv2D(512,kernel_size = (3,3),padding = 'same',activation = 'relu'),\n",
        "    layers.Conv2D(512,kernel_size = (3,3),padding = 'same',activation = 'relu'),\n",
        "    layers.Conv2D(512,kernel_size = (3,3),padding = 'same',activation = 'relu'),\n",
        "    layers.MaxPooling2D((2,2),strides = (2,2)),\n",
        "\n",
        "    layers.Conv2D(512,kernel_size = (3,3),padding = 'same',activation = 'relu'),\n",
        "    layers.Conv2D(512,kernel_size = (3,3),padding = 'same',activation = 'relu'),\n",
        "    layers.Conv2D(512,kernel_size = (3,3),padding = 'same',activation = 'relu'),\n",
        "    layers.MaxPooling2D((2,2),strides = (2,2)),\n",
        "\n",
        "    layers.Flatten(),\n",
        "    \n",
        "    layers.Dense(4096,activation = 'relu'),\n",
        "    layers.Dropout(0.5),\n",
        "    \n",
        "    layers.Dense(4096,activation = 'relu'),\n",
        "    layers.Dropout(0.5),\n",
        "    \n",
        "    layers.Dense(10,activation = 'softmax')\n",
        "])"
      ],
      "metadata": {
        "id": "wI6wm5HCjnZJ"
      },
      "execution_count": 6,
      "outputs": []
    },
    {
      "cell_type": "code",
      "source": [
        "lr_reducer = tf.keras.callbacks.ReduceLROnPlateau(monitor = 'val_accuracy',factor = 0.1,patience = 5,mode = 'max',cooldown = 0)\n",
        "early_stopper = tf.keras.callbacks.EarlyStopping(monitor = 'accuracy',patience = 3,mode = 'auto')"
      ],
      "metadata": {
        "id": "X8R-wUitFHlI"
      },
      "execution_count": 7,
      "outputs": []
    },
    {
      "cell_type": "code",
      "source": [
        "model.compile(optimizer = keras.optimizers.SGD(learning_rate = 0.01,momentum = 0.9,),loss = keras.losses.categorical_crossentropy,metrics = ['accuracy'])"
      ],
      "metadata": {
        "id": "Rzy2f01HjncJ"
      },
      "execution_count": 8,
      "outputs": []
    },
    {
      "cell_type": "code",
      "source": [
        "model.summary()"
      ],
      "metadata": {
        "colab": {
          "base_uri": "https://localhost:8080/"
        },
        "id": "vh1ltrlLjneo",
        "outputId": "4192740a-4ae6-4e6e-a1ac-22569eb98914"
      },
      "execution_count": 9,
      "outputs": [
        {
          "output_type": "stream",
          "name": "stdout",
          "text": [
            "Model: \"sequential\"\n",
            "_________________________________________________________________\n",
            " Layer (type)                Output Shape              Param #   \n",
            "=================================================================\n",
            " conv2d (Conv2D)             (None, 32, 32, 64)        1792      \n",
            "                                                                 \n",
            " conv2d_1 (Conv2D)           (None, 32, 32, 64)        36928     \n",
            "                                                                 \n",
            " max_pooling2d (MaxPooling2D  (None, 16, 16, 64)       0         \n",
            " )                                                               \n",
            "                                                                 \n",
            " conv2d_2 (Conv2D)           (None, 16, 16, 128)       73856     \n",
            "                                                                 \n",
            " conv2d_3 (Conv2D)           (None, 16, 16, 128)       147584    \n",
            "                                                                 \n",
            " max_pooling2d_1 (MaxPooling  (None, 8, 8, 128)        0         \n",
            " 2D)                                                             \n",
            "                                                                 \n",
            " conv2d_4 (Conv2D)           (None, 8, 8, 256)         295168    \n",
            "                                                                 \n",
            " conv2d_5 (Conv2D)           (None, 8, 8, 256)         590080    \n",
            "                                                                 \n",
            " conv2d_6 (Conv2D)           (None, 8, 8, 256)         590080    \n",
            "                                                                 \n",
            " max_pooling2d_2 (MaxPooling  (None, 4, 4, 256)        0         \n",
            " 2D)                                                             \n",
            "                                                                 \n",
            " conv2d_7 (Conv2D)           (None, 4, 4, 512)         1180160   \n",
            "                                                                 \n",
            " conv2d_8 (Conv2D)           (None, 4, 4, 512)         2359808   \n",
            "                                                                 \n",
            " conv2d_9 (Conv2D)           (None, 4, 4, 512)         2359808   \n",
            "                                                                 \n",
            " max_pooling2d_3 (MaxPooling  (None, 2, 2, 512)        0         \n",
            " 2D)                                                             \n",
            "                                                                 \n",
            " conv2d_10 (Conv2D)          (None, 2, 2, 512)         2359808   \n",
            "                                                                 \n",
            " conv2d_11 (Conv2D)          (None, 2, 2, 512)         2359808   \n",
            "                                                                 \n",
            " conv2d_12 (Conv2D)          (None, 2, 2, 512)         2359808   \n",
            "                                                                 \n",
            " max_pooling2d_4 (MaxPooling  (None, 1, 1, 512)        0         \n",
            " 2D)                                                             \n",
            "                                                                 \n",
            " flatten (Flatten)           (None, 512)               0         \n",
            "                                                                 \n",
            " dense (Dense)               (None, 4096)              2101248   \n",
            "                                                                 \n",
            " dropout (Dropout)           (None, 4096)              0         \n",
            "                                                                 \n",
            " dense_1 (Dense)             (None, 4096)              16781312  \n",
            "                                                                 \n",
            " dropout_1 (Dropout)         (None, 4096)              0         \n",
            "                                                                 \n",
            " dense_2 (Dense)             (None, 10)                40970     \n",
            "                                                                 \n",
            "=================================================================\n",
            "Total params: 33,638,218\n",
            "Trainable params: 33,638,218\n",
            "Non-trainable params: 0\n",
            "_________________________________________________________________\n"
          ]
        }
      ]
    },
    {
      "cell_type": "code",
      "source": [
        "history = model.fit(x_train1,y_train1,batch_size = 256,epochs = 40,validation_data = (x_val,y_val),callbacks = [lr_reducer,early_stopper])"
      ],
      "metadata": {
        "colab": {
          "base_uri": "https://localhost:8080/"
        },
        "id": "rPpQWnhSjxxr",
        "outputId": "2604a947-7369-4b7a-cdf0-f55a607d32f5"
      },
      "execution_count": 11,
      "outputs": [
        {
          "output_type": "stream",
          "name": "stdout",
          "text": [
            "Epoch 1/40\n",
            "157/157 [==============================] - 26s 128ms/step - loss: 2.3027 - accuracy: 0.0983 - val_loss: 2.3027 - val_accuracy: 0.1003 - lr: 0.0100\n",
            "Epoch 2/40\n",
            "157/157 [==============================] - 18s 112ms/step - loss: 2.3027 - accuracy: 0.0998 - val_loss: 2.3025 - val_accuracy: 0.0980 - lr: 0.0100\n",
            "Epoch 3/40\n",
            "157/157 [==============================] - 17s 111ms/step - loss: 2.3024 - accuracy: 0.1032 - val_loss: 2.3019 - val_accuracy: 0.1439 - lr: 0.0100\n",
            "Epoch 4/40\n",
            "157/157 [==============================] - 17s 111ms/step - loss: 2.3003 - accuracy: 0.1198 - val_loss: 2.2938 - val_accuracy: 0.1764 - lr: 0.0100\n",
            "Epoch 5/40\n",
            "157/157 [==============================] - 18s 112ms/step - loss: 2.1985 - accuracy: 0.1768 - val_loss: 2.2821 - val_accuracy: 0.1366 - lr: 0.0100\n",
            "Epoch 6/40\n",
            "157/157 [==============================] - 18s 112ms/step - loss: 2.0838 - accuracy: 0.1924 - val_loss: 2.0412 - val_accuracy: 0.1985 - lr: 0.0100\n",
            "Epoch 7/40\n",
            "157/157 [==============================] - 18s 112ms/step - loss: 1.9360 - accuracy: 0.2281 - val_loss: 1.8573 - val_accuracy: 0.2530 - lr: 0.0100\n",
            "Epoch 8/40\n",
            "157/157 [==============================] - 19s 120ms/step - loss: 1.8370 - accuracy: 0.2793 - val_loss: 1.7501 - val_accuracy: 0.3216 - lr: 0.0100\n",
            "Epoch 9/40\n",
            "157/157 [==============================] - 17s 111ms/step - loss: 1.7335 - accuracy: 0.3292 - val_loss: 1.6644 - val_accuracy: 0.3628 - lr: 0.0100\n",
            "Epoch 10/40\n",
            "157/157 [==============================] - 18s 112ms/step - loss: 1.6403 - accuracy: 0.3649 - val_loss: 1.5444 - val_accuracy: 0.4146 - lr: 0.0100\n",
            "Epoch 11/40\n",
            "157/157 [==============================] - 19s 120ms/step - loss: 1.5296 - accuracy: 0.4160 - val_loss: 1.4558 - val_accuracy: 0.4486 - lr: 0.0100\n",
            "Epoch 12/40\n",
            "157/157 [==============================] - 18s 112ms/step - loss: 1.4154 - accuracy: 0.4695 - val_loss: 1.5388 - val_accuracy: 0.4535 - lr: 0.0100\n",
            "Epoch 13/40\n",
            "157/157 [==============================] - 18s 112ms/step - loss: 1.3124 - accuracy: 0.5179 - val_loss: 1.4511 - val_accuracy: 0.4761 - lr: 0.0100\n",
            "Epoch 14/40\n",
            "157/157 [==============================] - 18s 112ms/step - loss: 1.2047 - accuracy: 0.5570 - val_loss: 1.2335 - val_accuracy: 0.5448 - lr: 0.0100\n",
            "Epoch 15/40\n",
            "157/157 [==============================] - 18s 112ms/step - loss: 1.0929 - accuracy: 0.6011 - val_loss: 1.1016 - val_accuracy: 0.6032 - lr: 0.0100\n",
            "Epoch 16/40\n",
            "157/157 [==============================] - 19s 120ms/step - loss: 0.9915 - accuracy: 0.6414 - val_loss: 1.1166 - val_accuracy: 0.5999 - lr: 0.0100\n",
            "Epoch 17/40\n",
            "157/157 [==============================] - 18s 112ms/step - loss: 0.9052 - accuracy: 0.6750 - val_loss: 0.9267 - val_accuracy: 0.6713 - lr: 0.0100\n",
            "Epoch 18/40\n",
            "157/157 [==============================] - 18s 112ms/step - loss: 0.8052 - accuracy: 0.7109 - val_loss: 0.9020 - val_accuracy: 0.6884 - lr: 0.0100\n",
            "Epoch 19/40\n",
            "157/157 [==============================] - 18s 113ms/step - loss: 0.7377 - accuracy: 0.7379 - val_loss: 0.9676 - val_accuracy: 0.6741 - lr: 0.0100\n",
            "Epoch 20/40\n",
            "157/157 [==============================] - 18s 112ms/step - loss: 0.6589 - accuracy: 0.7662 - val_loss: 0.8956 - val_accuracy: 0.7013 - lr: 0.0100\n",
            "Epoch 21/40\n",
            "157/157 [==============================] - 18s 112ms/step - loss: 0.5804 - accuracy: 0.7968 - val_loss: 0.9039 - val_accuracy: 0.7091 - lr: 0.0100\n",
            "Epoch 22/40\n",
            "157/157 [==============================] - 18s 112ms/step - loss: 0.5186 - accuracy: 0.8161 - val_loss: 0.9923 - val_accuracy: 0.6998 - lr: 0.0100\n",
            "Epoch 23/40\n",
            "157/157 [==============================] - 18s 112ms/step - loss: 0.4392 - accuracy: 0.8458 - val_loss: 0.9478 - val_accuracy: 0.7105 - lr: 0.0100\n",
            "Epoch 24/40\n",
            "157/157 [==============================] - 19s 120ms/step - loss: 0.3622 - accuracy: 0.8733 - val_loss: 1.0417 - val_accuracy: 0.7081 - lr: 0.0100\n",
            "Epoch 25/40\n",
            "157/157 [==============================] - 18s 112ms/step - loss: 0.2981 - accuracy: 0.8965 - val_loss: 1.0324 - val_accuracy: 0.7260 - lr: 0.0100\n",
            "Epoch 26/40\n",
            "157/157 [==============================] - 19s 120ms/step - loss: 0.2684 - accuracy: 0.9071 - val_loss: 1.0153 - val_accuracy: 0.7235 - lr: 0.0100\n",
            "Epoch 27/40\n",
            "157/157 [==============================] - 18s 112ms/step - loss: 0.2370 - accuracy: 0.9168 - val_loss: 1.0111 - val_accuracy: 0.7410 - lr: 0.0100\n",
            "Epoch 28/40\n",
            "157/157 [==============================] - 18s 112ms/step - loss: 0.1926 - accuracy: 0.9338 - val_loss: 1.1254 - val_accuracy: 0.7317 - lr: 0.0100\n",
            "Epoch 29/40\n",
            "157/157 [==============================] - 18s 112ms/step - loss: 0.1749 - accuracy: 0.9397 - val_loss: 1.2327 - val_accuracy: 0.7251 - lr: 0.0100\n",
            "Epoch 30/40\n",
            "157/157 [==============================] - 18s 112ms/step - loss: 0.1490 - accuracy: 0.9499 - val_loss: 1.1842 - val_accuracy: 0.7225 - lr: 0.0100\n",
            "Epoch 31/40\n",
            "157/157 [==============================] - 18s 112ms/step - loss: 0.1197 - accuracy: 0.9592 - val_loss: 1.1490 - val_accuracy: 0.7417 - lr: 0.0100\n",
            "Epoch 32/40\n",
            "157/157 [==============================] - 18s 112ms/step - loss: 0.1024 - accuracy: 0.9653 - val_loss: 1.1816 - val_accuracy: 0.7394 - lr: 0.0100\n",
            "Epoch 33/40\n",
            "157/157 [==============================] - 18s 112ms/step - loss: 0.0933 - accuracy: 0.9682 - val_loss: 1.2709 - val_accuracy: 0.7420 - lr: 0.0100\n",
            "Epoch 34/40\n",
            "157/157 [==============================] - 18s 112ms/step - loss: 0.0852 - accuracy: 0.9705 - val_loss: 1.3276 - val_accuracy: 0.7353 - lr: 0.0100\n",
            "Epoch 35/40\n",
            "157/157 [==============================] - 18s 112ms/step - loss: 0.0744 - accuracy: 0.9751 - val_loss: 1.2182 - val_accuracy: 0.7448 - lr: 0.0100\n",
            "Epoch 36/40\n",
            "157/157 [==============================] - 19s 120ms/step - loss: 0.0619 - accuracy: 0.9789 - val_loss: 1.4579 - val_accuracy: 0.7400 - lr: 0.0100\n",
            "Epoch 37/40\n",
            "157/157 [==============================] - 18s 112ms/step - loss: 0.0548 - accuracy: 0.9817 - val_loss: 1.3407 - val_accuracy: 0.7556 - lr: 0.0100\n",
            "Epoch 38/40\n",
            "157/157 [==============================] - 19s 120ms/step - loss: 0.0564 - accuracy: 0.9805 - val_loss: 1.2623 - val_accuracy: 0.7521 - lr: 0.0100\n",
            "Epoch 39/40\n",
            "157/157 [==============================] - 18s 112ms/step - loss: 0.0497 - accuracy: 0.9834 - val_loss: 1.3389 - val_accuracy: 0.7584 - lr: 0.0100\n",
            "Epoch 40/40\n",
            "157/157 [==============================] - 18s 112ms/step - loss: 0.0443 - accuracy: 0.9853 - val_loss: 1.2864 - val_accuracy: 0.7579 - lr: 0.0100\n"
          ]
        }
      ]
    },
    {
      "cell_type": "code",
      "source": [
        "history1 = model.evaluate(x_test,y_test,batch_size = 256)"
      ],
      "metadata": {
        "colab": {
          "base_uri": "https://localhost:8080/"
        },
        "id": "trb-F3gzjx0G",
        "outputId": "6687182c-b1c8-4a30-d1df-0fc531d54e04"
      },
      "execution_count": 12,
      "outputs": [
        {
          "output_type": "stream",
          "name": "stdout",
          "text": [
            "40/40 [==============================] - 1s 34ms/step - loss: 1.2892 - accuracy: 0.7538\n"
          ]
        }
      ]
    },
    {
      "cell_type": "code",
      "source": [
        "plt.plot(history.history['accuracy'])\n",
        "plt.plot(history.history['val_accuracy'])\n",
        "plt.title('model accuracy')\n",
        "plt.ylabel('accuracy')\n",
        "plt.xlabel('epoch')\n",
        "plt.legend(['train', 'val'], loc='upper left')\n",
        "plt.show()"
      ],
      "metadata": {
        "colab": {
          "base_uri": "https://localhost:8080/",
          "height": 295
        },
        "id": "Qxj895JClecT",
        "outputId": "99269d69-2d45-416f-b876-cfbf3e8e49b8"
      },
      "execution_count": 13,
      "outputs": [
        {
          "output_type": "display_data",
          "data": {
            "text/plain": [
              "<Figure size 432x288 with 1 Axes>"
            ],
            "image/png": "[encoded data removed]"
          },
          "metadata": {
            "needs_background": "light"
          }
        }
      ]
    },
    {
      "cell_type": "code",
      "source": [
        "plt.plot(history.history['loss'])\n",
        "plt.plot(history.history['val_loss'])\n",
        "plt.title('model loss')\n",
        "plt.ylabel('loss')\n",
        "plt.xlabel('epoch')\n",
        "plt.legend(['train', 'val'], loc='upper right')"
      ],
      "metadata": {
        "colab": {
          "base_uri": "https://localhost:8080/",
          "height": 312
        },
        "id": "SGXQWtSalemE",
        "outputId": "30760f90-91fa-42cd-f332-7bc902637a24"
      },
      "execution_count": 15,
      "outputs": [
        {
          "output_type": "execute_result",
          "data": {
            "text/plain": [
              "<matplotlib.legend.Legend at 0x7f3f6c1159d0>"
            ]
          },
          "metadata": {},
          "execution_count": 15
        },
        {
          "output_type": "display_data",
          "data": {
            "text/plain": [
              "<Figure size 432x288 with 1 Axes>"
            ],
            "image/png": "[encoded data removed]"
          },
          "metadata": {
            "needs_background": "light"
          }
        }
      ]
    }
  ]
}