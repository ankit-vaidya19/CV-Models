{
  "nbformat": 4,
  "nbformat_minor": 0,
  "metadata": {
    "colab": {
      "provenance": []
    },
    "kernelspec": {
      "name": "python3",
      "display_name": "Python 3"
    },
    "language_info": {
      "name": "python"
    },
    "accelerator": "GPU",
    "gpuClass": "standard"
  },
  "cells": [
    {
      "cell_type": "code",
      "source": [
        "import tensorflow as tf\n",
        "from tensorflow import keras\n",
        "from tensorflow.keras import layers\n",
        "from tensorflow.keras.datasets import cifar10\n",
        "import matplotlib.pyplot as plt"
      ],
      "metadata": {
        "id": "f4zUq8SjiQtz"
      },
      "execution_count": 5,
      "outputs": []
    },
    {
      "cell_type": "code",
      "source": [
        "(x_train,y_train),(x_test,y_test) = cifar10.load_data()"
      ],
      "metadata": {
        "id": "MuDoUz_Aj8jU"
      },
      "execution_count": 6,
      "outputs": []
    },
    {
      "cell_type": "code",
      "source": [
        "split = int(0.8*len(x_train))\n",
        "x_train = x_train.astype('float32')/255.0\n",
        "x_test = x_test.astype('float32')/255.0\n",
        "y_train = keras.utils.to_categorical(y_train)\n",
        "y_test = keras.utils.to_categorical(y_test)"
      ],
      "metadata": {
        "id": "6zFEBGlqjh6l"
      },
      "execution_count": 7,
      "outputs": []
    },
    {
      "cell_type": "code",
      "source": [
        "x_train1 = x_train[:split]\n",
        "y_train1 = y_train[:split]\n",
        "x_val = x_train[split:]\n",
        "y_val = y_train[split:]"
      ],
      "metadata": {
        "id": "_cPX3F0RjjAN"
      },
      "execution_count": 8,
      "outputs": []
    },
    {
      "cell_type": "code",
      "source": [
        "print(x_train1.shape)\n",
        "print(y_train1.shape)\n",
        "print(x_val.shape)\n",
        "print(y_val.shape)\n",
        "print(x_test.shape)\n",
        "print(y_test.shape)"
      ],
      "metadata": {
        "colab": {
          "base_uri": "https://localhost:8080/"
        },
        "id": "KPoSB0zKjlEB",
        "outputId": "f731cbd7-6fad-4636-ae63-5651bea173b7"
      },
      "execution_count": 9,
      "outputs": [
        {
          "output_type": "stream",
          "name": "stdout",
          "text": [
            "(40000, 32, 32, 3)\n",
            "(40000, 10)\n",
            "(10000, 32, 32, 3)\n",
            "(10000, 10)\n",
            "(10000, 32, 32, 3)\n",
            "(10000, 10)\n"
          ]
        }
      ]
    },
    {
      "cell_type": "code",
      "source": [
        "model = keras.Sequential([\n",
        "    layers.Input(shape=(32,32,3)),\n",
        "    \n",
        "    layers.Conv2D(96,kernel_size = (11,11),strides = (4,4),padding = 'same',activation = 'relu'),\n",
        "    layers.BatchNormalization(),\n",
        "    layers.MaxPooling2D((2,2),strides = (2,2),padding = 'same'),\n",
        "    \n",
        "    layers.Conv2D(256,kernel_size = (5,5),strides = (1,1),padding = 'same',activation = 'relu'),\n",
        "    layers.BatchNormalization(),\n",
        "    layers.MaxPooling2D((2,2),strides = (2,2),padding = 'same'),\n",
        "    \n",
        "    layers.Conv2D(384,kernel_size = (3,3),strides = (1,1),padding = 'same',activation = 'relu'),\n",
        "    layers.BatchNormalization(),\n",
        "    \n",
        "    layers.Conv2D(384,kernel_size = (3,3),strides = (1,1),padding = 'same',activation = 'relu'),\n",
        "    layers.BatchNormalization(),\n",
        "    \n",
        "    layers.Conv2D(256,kernel_size = (3,3),strides = (1,1),padding = 'same',activation = 'relu'),\n",
        "    layers.BatchNormalization(),\n",
        "    layers.MaxPooling2D((2,2),strides = (2,2),padding = 'same'),\n",
        "    \n",
        "    layers.Flatten(),\n",
        "    \n",
        "    layers.Dense(4096,input_shape = (32,32,3),activation = 'relu'),\n",
        "    layers.BatchNormalization(),\n",
        "    layers.Dropout(0.5),\n",
        "    \n",
        "    layers.Dense(4096,activation = 'relu'),\n",
        "    layers.BatchNormalization(),\n",
        "    layers.Dropout(0.5),\n",
        "    \n",
        "    layers.Dense(1000,activation = 'relu'),\n",
        "    layers.BatchNormalization(),\n",
        "    layers.Dropout(0.5),\n",
        "\n",
        "    layers.Dense(10,activation = 'softmax')\n",
        "])"
      ],
      "metadata": {
        "id": "wI6wm5HCjnZJ"
      },
      "execution_count": 10,
      "outputs": []
    },
    {
      "cell_type": "code",
      "source": [
        "model.compile(optimizer = 'Adam',loss = keras.losses.categorical_crossentropy,metrics = ['accuracy'])"
      ],
      "metadata": {
        "id": "Rzy2f01HjncJ"
      },
      "execution_count": 11,
      "outputs": []
    },
    {
      "cell_type": "code",
      "source": [
        "model.summary()"
      ],
      "metadata": {
        "colab": {
          "base_uri": "https://localhost:8080/"
        },
        "id": "vh1ltrlLjneo",
        "outputId": "dc4f29e4-ad47-4af9-851a-26a68bd64d3e"
      },
      "execution_count": 12,
      "outputs": [
        {
          "output_type": "stream",
          "name": "stdout",
          "text": [
            "Model: \"sequential\"\n",
            "_________________________________________________________________\n",
            " Layer (type)                Output Shape              Param #   \n",
            "=================================================================\n",
            " conv2d (Conv2D)             (None, 8, 8, 96)          34944     \n",
            "                                                                 \n",
            " batch_normalization (BatchN  (None, 8, 8, 96)         384       \n",
            " ormalization)                                                   \n",
            "                                                                 \n",
            " max_pooling2d (MaxPooling2D  (None, 4, 4, 96)         0         \n",
            " )                                                               \n",
            "                                                                 \n",
            " conv2d_1 (Conv2D)           (None, 4, 4, 256)         614656    \n",
            "                                                                 \n",
            " batch_normalization_1 (Batc  (None, 4, 4, 256)        1024      \n",
            " hNormalization)                                                 \n",
            "                                                                 \n",
            " max_pooling2d_1 (MaxPooling  (None, 2, 2, 256)        0         \n",
            " 2D)                                                             \n",
            "                                                                 \n",
            " conv2d_2 (Conv2D)           (None, 2, 2, 384)         885120    \n",
            "                                                                 \n",
            " batch_normalization_2 (Batc  (None, 2, 2, 384)        1536      \n",
            " hNormalization)                                                 \n",
            "                                                                 \n",
            " conv2d_3 (Conv2D)           (None, 2, 2, 384)         1327488   \n",
            "                                                                 \n",
            " batch_normalization_3 (Batc  (None, 2, 2, 384)        1536      \n",
            " hNormalization)                                                 \n",
            "                                                                 \n",
            " conv2d_4 (Conv2D)           (None, 2, 2, 256)         884992    \n",
            "                                                                 \n",
            " batch_normalization_4 (Batc  (None, 2, 2, 256)        1024      \n",
            " hNormalization)                                                 \n",
            "                                                                 \n",
            " max_pooling2d_2 (MaxPooling  (None, 1, 1, 256)        0         \n",
            " 2D)                                                             \n",
            "                                                                 \n",
            " flatten (Flatten)           (None, 256)               0         \n",
            "                                                                 \n",
            " dense (Dense)               (None, 4096)              1052672   \n",
            "                                                                 \n",
            " batch_normalization_5 (Batc  (None, 4096)             16384     \n",
            " hNormalization)                                                 \n",
            "                                                                 \n",
            " dropout (Dropout)           (None, 4096)              0         \n",
            "                                                                 \n",
            " dense_1 (Dense)             (None, 4096)              16781312  \n",
            "                                                                 \n",
            " batch_normalization_6 (Batc  (None, 4096)             16384     \n",
            " hNormalization)                                                 \n",
            "                                                                 \n",
            " dropout_1 (Dropout)         (None, 4096)              0         \n",
            "                                                                 \n",
            " dense_2 (Dense)             (None, 1000)              4097000   \n",
            "                                                                 \n",
            " batch_normalization_7 (Batc  (None, 1000)             4000      \n",
            " hNormalization)                                                 \n",
            "                                                                 \n",
            " dropout_2 (Dropout)         (None, 1000)              0         \n",
            "                                                                 \n",
            " dense_3 (Dense)             (None, 10)                10010     \n",
            "                                                                 \n",
            "=================================================================\n",
            "Total params: 25,730,466\n",
            "Trainable params: 25,709,330\n",
            "Non-trainable params: 21,136\n",
            "_________________________________________________________________\n"
          ]
        }
      ]
    },
    {
      "cell_type": "code",
      "source": [
        "history = model.fit(x_train1,y_train1,batch_size = 32,epochs = 20,validation_data = (x_val,y_val))"
      ],
      "metadata": {
        "colab": {
          "base_uri": "https://localhost:8080/"
        },
        "id": "rPpQWnhSjxxr",
        "outputId": "82efbc59-c8ca-4741-ec76-2a4aaf8368f2"
      },
      "execution_count": 13,
      "outputs": [
        {
          "output_type": "stream",
          "name": "stdout",
          "text": [
            "Epoch 1/20\n",
            "1250/1250 [==============================] - 28s 15ms/step - loss: 2.1899 - accuracy: 0.2955 - val_loss: 2.9974 - val_accuracy: 0.2300\n",
            "Epoch 2/20\n",
            "1250/1250 [==============================] - 18s 14ms/step - loss: 1.7738 - accuracy: 0.3897 - val_loss: 1.8222 - val_accuracy: 0.3826\n",
            "Epoch 3/20\n",
            "1250/1250 [==============================] - 19s 15ms/step - loss: 1.5808 - accuracy: 0.4492 - val_loss: 1.4993 - val_accuracy: 0.4743\n",
            "Epoch 4/20\n",
            "1250/1250 [==============================] - 18s 14ms/step - loss: 1.4656 - accuracy: 0.4910 - val_loss: 1.5354 - val_accuracy: 0.4609\n",
            "Epoch 5/20\n",
            "1250/1250 [==============================] - 18s 14ms/step - loss: 1.3803 - accuracy: 0.5215 - val_loss: 1.3218 - val_accuracy: 0.5316\n",
            "Epoch 6/20\n",
            "1250/1250 [==============================] - 18s 14ms/step - loss: 1.2968 - accuracy: 0.5523 - val_loss: 1.3223 - val_accuracy: 0.5202\n",
            "Epoch 7/20\n",
            "1250/1250 [==============================] - 18s 14ms/step - loss: 1.2139 - accuracy: 0.5776 - val_loss: 1.2082 - val_accuracy: 0.5765\n",
            "Epoch 8/20\n",
            "1250/1250 [==============================] - 18s 14ms/step - loss: 1.1597 - accuracy: 0.5980 - val_loss: 1.6341 - val_accuracy: 0.4627\n",
            "Epoch 9/20\n",
            "1250/1250 [==============================] - 19s 15ms/step - loss: 1.0592 - accuracy: 0.6339 - val_loss: 1.2972 - val_accuracy: 0.5736\n",
            "Epoch 10/20\n",
            "1250/1250 [==============================] - 18s 14ms/step - loss: 0.9738 - accuracy: 0.6651 - val_loss: 1.2228 - val_accuracy: 0.5760\n",
            "Epoch 11/20\n",
            "1250/1250 [==============================] - 18s 14ms/step - loss: 0.8613 - accuracy: 0.7038 - val_loss: 1.2501 - val_accuracy: 0.5937\n",
            "Epoch 12/20\n",
            "1250/1250 [==============================] - 18s 14ms/step - loss: 0.7642 - accuracy: 0.7392 - val_loss: 1.3821 - val_accuracy: 0.5621\n",
            "Epoch 13/20\n",
            "1250/1250 [==============================] - 18s 14ms/step - loss: 0.6702 - accuracy: 0.7702 - val_loss: 1.2540 - val_accuracy: 0.6192\n",
            "Epoch 14/20\n",
            "1250/1250 [==============================] - 19s 15ms/step - loss: 0.5827 - accuracy: 0.8005 - val_loss: 1.3359 - val_accuracy: 0.6159\n",
            "Epoch 15/20\n",
            "1250/1250 [==============================] - 18s 14ms/step - loss: 0.5020 - accuracy: 0.8268 - val_loss: 1.4443 - val_accuracy: 0.5895\n",
            "Epoch 16/20\n",
            "1250/1250 [==============================] - 19s 15ms/step - loss: 0.4211 - accuracy: 0.8553 - val_loss: 1.5582 - val_accuracy: 0.5981\n",
            "Epoch 17/20\n",
            "1250/1250 [==============================] - 18s 14ms/step - loss: 0.3714 - accuracy: 0.8770 - val_loss: 1.5583 - val_accuracy: 0.5897\n",
            "Epoch 18/20\n",
            "1250/1250 [==============================] - 19s 15ms/step - loss: 0.3333 - accuracy: 0.8878 - val_loss: 1.7468 - val_accuracy: 0.5830\n",
            "Epoch 19/20\n",
            "1250/1250 [==============================] - 19s 15ms/step - loss: 0.2760 - accuracy: 0.9071 - val_loss: 1.7370 - val_accuracy: 0.5901\n",
            "Epoch 20/20\n",
            "1250/1250 [==============================] - 18s 14ms/step - loss: 0.2529 - accuracy: 0.9146 - val_loss: 1.9141 - val_accuracy: 0.6105\n"
          ]
        }
      ]
    },
    {
      "cell_type": "code",
      "source": [
        "history1 = model.evaluate(x_test,y_test,batch_size = 32)"
      ],
      "metadata": {
        "colab": {
          "base_uri": "https://localhost:8080/"
        },
        "id": "trb-F3gzjx0G",
        "outputId": "0f965b32-6483-40f1-f26c-82c905c54480"
      },
      "execution_count": 14,
      "outputs": [
        {
          "output_type": "stream",
          "name": "stdout",
          "text": [
            "313/313 [==============================] - 2s 5ms/step - loss: 1.8378 - accuracy: 0.6059\n"
          ]
        }
      ]
    },
    {
      "cell_type": "code",
      "source": [
        "plt.plot(history.history['accuracy'])\n",
        "plt.plot(history.history['val_accuracy'])\n",
        "plt.title('model accuracy')\n",
        "plt.ylabel('accuracy')\n",
        "plt.xlabel('epoch')\n",
        "plt.legend(['train', 'val'], loc='upper left')\n",
        "plt.show()"
      ],
      "metadata": {
        "colab": {
          "base_uri": "https://localhost:8080/",
          "height": 295
        },
        "id": "Qxj895JClecT",
        "outputId": "70b82a3a-c3bf-41e5-fd08-d639e67a4a0a"
      },
      "execution_count": 16,
      "outputs": [
        {
          "output_type": "display_data",
          "data": {
            "text/plain": [
              "<Figure size 432x288 with 1 Axes>"
            ],
            "image/png": "[encoded data removed]"
          },
          "metadata": {
            "needs_background": "light"
          }
        }
      ]
    },
    {
      "cell_type": "code",
      "source": [
        "plt.plot(history.history['loss'])\n",
        "plt.plot(history.history['val_loss'])\n",
        "plt.title('model loss')\n",
        "plt.ylabel('loss')\n",
        "plt.xlabel('epoch')\n",
        "plt.legend(['train', 'test'], loc='upper right')"
      ],
      "metadata": {
        "colab": {
          "base_uri": "https://localhost:8080/",
          "height": 312
        },
        "id": "SGXQWtSalemE",
        "outputId": "b6b3b6c7-027d-4790-fb7c-35f917f9ba73"
      },
      "execution_count": 21,
      "outputs": [
        {
          "output_type": "execute_result",
          "data": {
            "text/plain": [
              "<matplotlib.legend.Legend at 0x7f997114d1f0>"
            ]
          },
          "metadata": {},
          "execution_count": 21
        },
        {
          "output_type": "display_data",
          "data": {
            "text/plain": [
              "<Figure size 432x288 with 1 Axes>"
            ],
            "image/png": "[encoded data removed]"
          },
          "metadata": {
            "needs_background": "light"
          }
        }
      ]
    }
  ]
}